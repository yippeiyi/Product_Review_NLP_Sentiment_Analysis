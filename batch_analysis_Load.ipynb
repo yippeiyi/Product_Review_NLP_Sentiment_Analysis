{
 "cells": [
  {
   "cell_type": "markdown",
   "id": "6b859edf",
   "metadata": {},
   "source": [
    "## Project: NLP Sentiment Analysis for US Amazon Grocery Reviews"
   ]
  },
  {
   "cell_type": "markdown",
   "id": "60a6578b",
   "metadata": {},
   "source": [
    "- Aim of Project: Apply NLP text mining techniques and classification algorithms to assess reviews for groceries in US Amazon. [[1]](https://ieeexplore.ieee.org/document/9402414) [[2]](https://ieeexplore.ieee.org/document/10009447)\n",
    "- Motivation: To help identify what changes can/should be made in the company to help increase customer loyalty and reduce customer support cases.\n",
    "- Data Source link: [[here]](https://www.kaggle.com/datasets/cynthiarempel/amazon-us-customer-reviews-dataset?select=amazon_reviews_us_Grocery_v1_00.tsv)  \n",
    "    - Original Data contains over 2 million reviews and 15 features\n",
    "- Predictive Algorithm Model Proposed: Logistic Regression, Naive Bayesian, Random Forest (ensemble model)\n",
    "- Extra information: [[video]](https://www.youtube.com/watch?v=82eAIYOxwxA) [[article]](https://medium.com/@pritigupta.ds/exploring-sentiment-analysis-using-nlp-a-simple-example-with-restaurant-reviews-78538dfb9f27) [[Additional]](https://medium.com/data-science-lab-spring-2021/amazon-review-rating-prediction-with-nlp-28a4acdd4352)  information on NLP for review ratings and different algorithms.\n",
    "\n",
    "### Purpose of customer feedback analytics\n",
    "\n",
    "- Studies show that 42% of companies don't actually analyze customer feedback\n",
    "- Customer feedback is essential for product development, improving customer experience/satisfaction levels.\n",
    "- Variables to consider: type of customer (long-term? new?), prompted or unprompted, customer motivation (people with extreme experiences will def give review, but what about average experiences?), volume of review (majority saying the same problem?), repetition, high stakes feedback (private data leaking?)\n",
    "- Ways to collect customer feedback: live chat, short surveys, social media, emails...etc. [[3]](https://www.intercom.com/blog/customer-feedback-strategy/)\n",
    "\n",
    "### Background of Amazon\n",
    "\n",
    "The well-known company Amazon.com is an iconic example of an international e-commerce business that offers a wide range of services. Examples include web-based services for cloud storage, publishing market-leading e-books on Kindle, and serving as an online retail platform for B2C and B2B businesses to function. [[4]](https://www.britannica.com/topic/Amazoncom) Amazon is guided by four principles: customer obsession rather than competitor focus, passion for invention, commitment to operational excellence, and long-term thinking. Amazon strives to be Earth’s most customer-centric company, Earth’s best employer, and Earth’s safest place to work. Customer reviews, 1-Click shopping, personalized recommendations, Prime, Fulfillment by Amazon, AWS, Kindle Direct Publishing, Kindle, Career Choice, Fire TV, Amazon Echo, Alexa, Just Walk Out technology, and The Climate Pledge are some of the things pioneered by Amazon. [[5]](https://www.aboutamazon.eu/who-we-are)"
   ]
  },
  {
   "cell_type": "markdown",
   "id": "36aa8b20",
   "metadata": {},
   "source": [
    "### Overview of dataset "
   ]
  },
  {
   "cell_type": "markdown",
   "id": "5102bd39",
   "metadata": {},
   "source": [
    "Information of variables from the dataset:  \n",
    "> 1. `marketplace`: 2 letter country code of the marketplace where the review was written.\n",
    "> 2. `customer_id`: Random identifier that can be used to aggregate reviews written by a single author.\n",
    "> 3. `review_id`: The unique ID of the review.\n",
    "> 4. `product_id`: The unique Product ID the review pertains to.\n",
    "> 5. `product_parent`: Random identifier that can be used to aggregate reviews for the same product.\n",
    "> 6. `product_title`: Title of the product.\n",
    "> 7. `product_category`: Broad product category that can be used to group reviews\n",
    "> 8. `star_rating`: The 1-5 star rating of the review.\n",
    "> 9. `helpful_votes`: Number of helpful votes.\n",
    "> 10. `total_votes`: Number of total votes the review received.\n",
    "> 11. `vine`: Review was written as part of the Vine program.\n",
    "> 12. `verified_purchase`: The review is on a verified purchase.\n",
    "> 13. `review_headline`: The title of the review.\n",
    "> 14. `review_body`: The review text.\n",
    "> 15. `review_date`: The date the review was written."
   ]
  },
  {
   "cell_type": "markdown",
   "id": "05c7bb7c",
   "metadata": {},
   "source": [
    "### 5 Different ways to analyse customer reviews:"
   ]
  },
  {
   "cell_type": "markdown",
   "id": "406ea668",
   "metadata": {},
   "source": [
    "#### _Step 1: Preprocessing text_ [[6]](https://www.linkedin.com/advice/0/what-best-ways-analyze-customer-feedback-data-python) \n",
    "\n",
    "Before you can analyze customer feedback data, you need to clean and transform it into a suitable format for further processing. Text preprocessing involves steps such as **removing punctuation, stopwords, numbers, and irrelevant characters, converting text to lowercase, tokenizing text into words or sentences, stemming or lemmatizing words to their root forms, and encoding text as numerical vectors**.  \n",
    "\n",
    "Python offers many libraries and tools for text preprocessing, such as NLTK, spaCy, gensim, and scikit-learn.\n",
    "\n",
    "#### _Step 2: Sentiment Analysis_ [[6]](https://www.linkedin.com/advice/0/what-best-ways-analyze-customer-feedback-data-python) \n",
    "\n",
    "Sentiment analysis is the process of **identifying and extracting the emotional tone and attitude of a text, such as positive, negative, or neutral**. Sentiment analysis can help you understand how your customers feel about your products, services, or brand, and identify areas of improvement or praise.  \n",
    "\n",
    "Python has several libraries and frameworks for sentiment analysis, such as TextBlob, Vader, Flair, and HuggingFace Transformers. You can also use pre-trained models or build your own custom models with Python.\n",
    "\n",
    "#### _Step 3: Topic Modelling_ [[6]](https://www.linkedin.com/advice/0/what-best-ways-analyze-customer-feedback-data-python) \n",
    "\n",
    "Topic modeling is the process of **discovering and extracting the main themes or topics** from a collection of texts. Topic modeling can help you find out what your customers are talking about, what are their main concerns or interests, and how they relate to each other.  \n",
    "\n",
    "Python has many libraries and algorithms for topic modeling, such as LDA, NMF, LSA, and LDAvis. You can also use Python to visualize and interpret the results of topic modeling, such as using pyLDAvis, word clouds, or bar charts.\n",
    "\n",
    "#### _Step 4: Text Summarization_ [[6]](https://www.linkedin.com/advice/0/what-best-ways-analyze-customer-feedback-data-python) \n",
    "\n",
    "Text summarization is the process of **creating a concise and informative summary of a longer text**, such as a review, comment, or feedback. Text summarization can help you save time and resources, as well as highlight the key points and opinions of your customers.  \n",
    "\n",
    "Python has many libraries and methods for text summarization, such as TextRank, LexRank, Gensim, and BERT. You can also use Python to evaluate the quality and performance of your text summarization models, such as using ROUGE or BLEU scores.\n",
    "\n",
    "#### _Step 5: Text Classification_ [[6]](https://www.linkedin.com/advice/0/what-best-ways-analyze-customer-feedback-data-python) \n",
    "\n",
    "Text classification is the process of **assigning a label or category to a text**, based on its content, context, or purpose. Text classification can help you organize and manage your customer feedback data, as well as perform tasks such as spam detection, sentiment analysis, topic detection, or intent recognition.  \n",
    "\n",
    "Python has many libraries and techniques for text classification, such as scikit-learn, Keras, TensorFlow, and PyTorch. You can also use Python to train and test your text classification models, such as using cross-validation, confusion matrix, or accuracy score.\n",
    "\n",
    "These are some of the best ways to analyze customer feedback data with Python, but there are many more possibilities and applications. Python is a great tool for data science, as it offers a rich and diverse ecosystem of libraries, frameworks, and resources for data analysis, manipulation, and visualization. By using Python, you can unlock the potential of your customer feedback data and gain valuable insights for your business."
   ]
  },
  {
   "cell_type": "markdown",
   "id": "ad8d99a4",
   "metadata": {},
   "source": [
    "### Loading the Dataset"
   ]
  },
  {
   "cell_type": "markdown",
   "id": "36e01a6a",
   "metadata": {},
   "source": [
    "Can refer to some examples like this [website1](https://www.geeksforgeeks.org/python-nlp-analysis-of-restaurant-reviews/), [website2](https://www.datacamp.com/tutorial/text-analytics-beginners-nltk), [website3](https://www.kaggle.com/code/stieranka/text-analysis-operations-using-nltk), or [website4](https://www.kaggle.com/code/matthewjansen/nlp-sentiment-analysis-of-company-reviews) (easiest since based on ratings instead of text)"
   ]
  },
  {
   "cell_type": "code",
   "execution_count": 2,
   "id": "833d797c",
   "metadata": {},
   "outputs": [],
   "source": [
    "# read the csv file containing amazon reviews data\n",
    "import pandas as pd\n",
    "groceries = pd.read_csv(\"C:/Users/yippe/OneDrive/Documents/Data/Amazon_Reviews/amazon_reviews_us_Grocery.csv\")"
   ]
  },
  {
   "cell_type": "code",
   "execution_count": 3,
   "id": "1feadc7c",
   "metadata": {
    "scrolled": true
   },
   "outputs": [
    {
     "data": {
      "text/html": [
       "<div>\n",
       "<style scoped>\n",
       "    .dataframe tbody tr th:only-of-type {\n",
       "        vertical-align: middle;\n",
       "    }\n",
       "\n",
       "    .dataframe tbody tr th {\n",
       "        vertical-align: top;\n",
       "    }\n",
       "\n",
       "    .dataframe thead th {\n",
       "        text-align: right;\n",
       "    }\n",
       "</style>\n",
       "<table border=\"1\" class=\"dataframe\">\n",
       "  <thead>\n",
       "    <tr style=\"text-align: right;\">\n",
       "      <th></th>\n",
       "      <th>marketplace</th>\n",
       "      <th>customer_id</th>\n",
       "      <th>review_id</th>\n",
       "      <th>product_id</th>\n",
       "      <th>product_parent</th>\n",
       "      <th>product_title</th>\n",
       "      <th>product_category</th>\n",
       "      <th>star_rating</th>\n",
       "      <th>helpful_votes</th>\n",
       "      <th>total_votes</th>\n",
       "      <th>vine</th>\n",
       "      <th>verified_purchase</th>\n",
       "      <th>review_headline</th>\n",
       "      <th>review_body</th>\n",
       "      <th>review_date</th>\n",
       "    </tr>\n",
       "  </thead>\n",
       "  <tbody>\n",
       "    <tr>\n",
       "      <th>0</th>\n",
       "      <td>US</td>\n",
       "      <td>42521656.0</td>\n",
       "      <td>R26MV8D0KG6QI6</td>\n",
       "      <td>B000SAQCWC</td>\n",
       "      <td>159713740</td>\n",
       "      <td>The Cravings Place Chocolate Chunk Cookie Mix,...</td>\n",
       "      <td>Grocery</td>\n",
       "      <td>5.0</td>\n",
       "      <td>0.0</td>\n",
       "      <td>0.0</td>\n",
       "      <td>N</td>\n",
       "      <td>Y</td>\n",
       "      <td>Using these for years - love them.</td>\n",
       "      <td>As a family allergic to wheat, dairy, eggs, nu...</td>\n",
       "      <td>2015-08-31</td>\n",
       "    </tr>\n",
       "    <tr>\n",
       "      <th>1</th>\n",
       "      <td>US</td>\n",
       "      <td>12049833.0</td>\n",
       "      <td>R1OF8GP57AQ1A0</td>\n",
       "      <td>B00509LVIQ</td>\n",
       "      <td>138680402</td>\n",
       "      <td>Mauna Loa Macadamias, 11 Ounce Packages</td>\n",
       "      <td>Grocery</td>\n",
       "      <td>5.0</td>\n",
       "      <td>0.0</td>\n",
       "      <td>0.0</td>\n",
       "      <td>N</td>\n",
       "      <td>Y</td>\n",
       "      <td>Wonderful</td>\n",
       "      <td>My favorite nut.  Creamy, crunchy, salty, and ...</td>\n",
       "      <td>2015-08-31</td>\n",
       "    </tr>\n",
       "    <tr>\n",
       "      <th>2</th>\n",
       "      <td>US</td>\n",
       "      <td>107642.0</td>\n",
       "      <td>R3VDC1QB6MC4ZZ</td>\n",
       "      <td>B00KHXESLC</td>\n",
       "      <td>252021703</td>\n",
       "      <td>Organic Matcha Green Tea Powder - 100% Pure Ma...</td>\n",
       "      <td>Grocery</td>\n",
       "      <td>5.0</td>\n",
       "      <td>0.0</td>\n",
       "      <td>0.0</td>\n",
       "      <td>N</td>\n",
       "      <td>N</td>\n",
       "      <td>Five Stars</td>\n",
       "      <td>This green tea tastes so good! My girlfriend l...</td>\n",
       "      <td>2015-08-31</td>\n",
       "    </tr>\n",
       "    <tr>\n",
       "      <th>3</th>\n",
       "      <td>US</td>\n",
       "      <td>6042304.0</td>\n",
       "      <td>R12FA3DCF8F9ER</td>\n",
       "      <td>B000F8JIIC</td>\n",
       "      <td>752728342</td>\n",
       "      <td>15oz Raspberry Lyons Designer Dessert Syrup Sauce</td>\n",
       "      <td>Grocery</td>\n",
       "      <td>5.0</td>\n",
       "      <td>0.0</td>\n",
       "      <td>0.0</td>\n",
       "      <td>N</td>\n",
       "      <td>Y</td>\n",
       "      <td>Five Stars</td>\n",
       "      <td>I love Melissa's brand but this is a great sec...</td>\n",
       "      <td>2015-08-31</td>\n",
       "    </tr>\n",
       "    <tr>\n",
       "      <th>4</th>\n",
       "      <td>US</td>\n",
       "      <td>18123821.0</td>\n",
       "      <td>RTWHVNV6X4CNJ</td>\n",
       "      <td>B004ZWR9RQ</td>\n",
       "      <td>552138758</td>\n",
       "      <td>Stride Spark Kinetic Fruit Sugar Free Gum, 14-...</td>\n",
       "      <td>Grocery</td>\n",
       "      <td>5.0</td>\n",
       "      <td>0.0</td>\n",
       "      <td>0.0</td>\n",
       "      <td>N</td>\n",
       "      <td>Y</td>\n",
       "      <td>Five Stars</td>\n",
       "      <td>good</td>\n",
       "      <td>2015-08-31</td>\n",
       "    </tr>\n",
       "  </tbody>\n",
       "</table>\n",
       "</div>"
      ],
      "text/plain": [
       "  marketplace  customer_id       review_id  product_id  product_parent  \\\n",
       "0          US   42521656.0  R26MV8D0KG6QI6  B000SAQCWC       159713740   \n",
       "1          US   12049833.0  R1OF8GP57AQ1A0  B00509LVIQ       138680402   \n",
       "2          US     107642.0  R3VDC1QB6MC4ZZ  B00KHXESLC       252021703   \n",
       "3          US    6042304.0  R12FA3DCF8F9ER  B000F8JIIC       752728342   \n",
       "4          US   18123821.0   RTWHVNV6X4CNJ  B004ZWR9RQ       552138758   \n",
       "\n",
       "                                       product_title product_category  \\\n",
       "0  The Cravings Place Chocolate Chunk Cookie Mix,...          Grocery   \n",
       "1            Mauna Loa Macadamias, 11 Ounce Packages          Grocery   \n",
       "2  Organic Matcha Green Tea Powder - 100% Pure Ma...          Grocery   \n",
       "3  15oz Raspberry Lyons Designer Dessert Syrup Sauce          Grocery   \n",
       "4  Stride Spark Kinetic Fruit Sugar Free Gum, 14-...          Grocery   \n",
       "\n",
       "   star_rating  helpful_votes  total_votes vine verified_purchase  \\\n",
       "0          5.0            0.0          0.0    N                 Y   \n",
       "1          5.0            0.0          0.0    N                 Y   \n",
       "2          5.0            0.0          0.0    N                 N   \n",
       "3          5.0            0.0          0.0    N                 Y   \n",
       "4          5.0            0.0          0.0    N                 Y   \n",
       "\n",
       "                      review_headline  \\\n",
       "0  Using these for years - love them.   \n",
       "1                           Wonderful   \n",
       "2                          Five Stars   \n",
       "3                          Five Stars   \n",
       "4                          Five Stars   \n",
       "\n",
       "                                         review_body review_date  \n",
       "0  As a family allergic to wheat, dairy, eggs, nu...  2015-08-31  \n",
       "1  My favorite nut.  Creamy, crunchy, salty, and ...  2015-08-31  \n",
       "2  This green tea tastes so good! My girlfriend l...  2015-08-31  \n",
       "3  I love Melissa's brand but this is a great sec...  2015-08-31  \n",
       "4                                               good  2015-08-31  "
      ]
     },
     "execution_count": 3,
     "metadata": {},
     "output_type": "execute_result"
    }
   ],
   "source": [
    "# See overview of the dataset\n",
    "groceries.head()"
   ]
  },
  {
   "cell_type": "code",
   "execution_count": 4,
   "id": "eb725d87",
   "metadata": {
    "scrolled": true
   },
   "outputs": [
    {
     "data": {
      "text/plain": [
       "marketplace           object\n",
       "customer_id          float64\n",
       "review_id             object\n",
       "product_id            object\n",
       "product_parent         int64\n",
       "product_title         object\n",
       "product_category      object\n",
       "star_rating          float64\n",
       "helpful_votes        float64\n",
       "total_votes          float64\n",
       "vine                  object\n",
       "verified_purchase     object\n",
       "review_headline       object\n",
       "review_body           object\n",
       "review_date           object\n",
       "dtype: object"
      ]
     },
     "execution_count": 4,
     "metadata": {},
     "output_type": "execute_result"
    }
   ],
   "source": [
    "# Check the data types of all features\n",
    "groceries.dtypes"
   ]
  },
  {
   "cell_type": "code",
   "execution_count": 5,
   "id": "8b1f136d",
   "metadata": {},
   "outputs": [
    {
     "data": {
      "text/plain": [
       "Index(['marketplace', 'customer_id', 'review_id', 'product_id',\n",
       "       'product_parent', 'product_title', 'product_category', 'star_rating',\n",
       "       'helpful_votes', 'total_votes', 'vine', 'verified_purchase',\n",
       "       'review_headline', 'review_body', 'review_date'],\n",
       "      dtype='object')"
      ]
     },
     "execution_count": 5,
     "metadata": {},
     "output_type": "execute_result"
    }
   ],
   "source": [
    "# Check all features included in the dataset\n",
    "groceries.columns"
   ]
  },
  {
   "cell_type": "code",
   "execution_count": 6,
   "id": "08f8dced",
   "metadata": {},
   "outputs": [
    {
     "data": {
      "text/plain": [
       "(2360812, 15)"
      ]
     },
     "execution_count": 6,
     "metadata": {},
     "output_type": "execute_result"
    }
   ],
   "source": [
    "# Check shape of the dataset\n",
    "groceries.shape"
   ]
  },
  {
   "cell_type": "markdown",
   "id": "7d1a96fc",
   "metadata": {},
   "source": [
    "### Data Cleaning & Extraction"
   ]
  },
  {
   "cell_type": "code",
   "execution_count": 7,
   "id": "bc7994f5",
   "metadata": {},
   "outputs": [],
   "source": [
    "# Drop any data observations containing NAs\n",
    "groceries.dropna(inplace = True)"
   ]
  },
  {
   "cell_type": "code",
   "execution_count": 8,
   "id": "fa6c4cfc",
   "metadata": {},
   "outputs": [],
   "source": [
    "# Change to datetime column\n",
    "groceries['review_date'] = pd.to_datetime(groceries['review_date'], format = '%Y/%m/%d')"
   ]
  },
  {
   "cell_type": "code",
   "execution_count": 9,
   "id": "d0220caf",
   "metadata": {},
   "outputs": [
    {
     "data": {
      "text/plain": [
       "Timestamp('1999-09-05 00:00:00')"
      ]
     },
     "execution_count": 9,
     "metadata": {},
     "output_type": "execute_result"
    }
   ],
   "source": [
    "# Checking first date\n",
    "groceries['review_date'].min()"
   ]
  },
  {
   "cell_type": "code",
   "execution_count": 10,
   "id": "1633086b",
   "metadata": {},
   "outputs": [
    {
     "data": {
      "text/plain": [
       "Timestamp('2015-08-31 00:00:00')"
      ]
     },
     "execution_count": 10,
     "metadata": {},
     "output_type": "execute_result"
    }
   ],
   "source": [
    "# Checking last date\n",
    "groceries['review_date'].max()"
   ]
  },
  {
   "cell_type": "code",
   "execution_count": 11,
   "id": "fdb73547",
   "metadata": {},
   "outputs": [
    {
     "data": {
      "text/plain": [
       "86995"
      ]
     },
     "execution_count": 11,
     "metadata": {},
     "output_type": "execute_result"
    }
   ],
   "source": [
    "# Checking how many records there are after 31st May 2015\n",
    "len(groceries[groceries['review_date'] > '2015-07-31'])"
   ]
  },
  {
   "cell_type": "code",
   "execution_count": 12,
   "id": "8c90e962",
   "metadata": {
    "scrolled": false
   },
   "outputs": [
    {
     "data": {
      "text/plain": [
       "[<matplotlib.lines.Line2D at 0x18a1f6060a0>]"
      ]
     },
     "execution_count": 12,
     "metadata": {},
     "output_type": "execute_result"
    },
    {
     "data": {
      "image/png": "[encoded data removed]",
      "text/plain": [
       "<Figure size 640x480 with 1 Axes>"
      ]
     },
     "metadata": {},
     "output_type": "display_data"
    }
   ],
   "source": [
    "# Load the libraries\n",
    "import matplotlib.pyplot as plt\n",
    "%matplotlib inline\n",
    "\n",
    "graph = groceries.groupby('review_date')['review_date'].count().rename_axis('review_date').reset_index(name='Frequency')\n",
    "\n",
    "x_axis = graph['review_date']\n",
    "y_axis = graph['Frequency']\n",
    "\n",
    "plt.plot(x_axis, y_axis)"
   ]
  },
  {
   "cell_type": "code",
   "execution_count": 13,
   "id": "7566e572",
   "metadata": {},
   "outputs": [
    {
     "data": {
      "text/plain": [
       "(86995, 15)"
      ]
     },
     "execution_count": 13,
     "metadata": {},
     "output_type": "execute_result"
    }
   ],
   "source": [
    "# Subset the data for records 1 month before last review\n",
    "df = groceries[groceries['review_date'] > '2015-07-31']\n",
    "df.shape"
   ]
  },
  {
   "cell_type": "code",
   "execution_count": 14,
   "id": "6b420bf1",
   "metadata": {
    "scrolled": true
   },
   "outputs": [
    {
     "data": {
      "text/plain": [
       "<bound method DataFrame.info of       marketplace  customer_id       review_id  product_id  product_parent  \\\n",
       "0              US   42521656.0  R26MV8D0KG6QI6  B000SAQCWC       159713740   \n",
       "1              US   12049833.0  R1OF8GP57AQ1A0  B00509LVIQ       138680402   \n",
       "2              US     107642.0  R3VDC1QB6MC4ZZ  B00KHXESLC       252021703   \n",
       "3              US    6042304.0  R12FA3DCF8F9ER  B000F8JIIC       752728342   \n",
       "4              US   18123821.0   RTWHVNV6X4CNJ  B004ZWR9RQ       552138758   \n",
       "...           ...          ...             ...         ...             ...   \n",
       "87009          US   20516082.0  R28QFY8E2HJMCA  B009AH9A96       475761929   \n",
       "87010          US   34195818.0  R2J23YI7O7C9DX  B00C3JB0MS       908510208   \n",
       "87011          US   39027645.0  R3MLDQC3V3JBAJ  B0078DU1CY       890843186   \n",
       "87012          US   52601164.0   RDU1REO93GGQO  B000HDOOL6       366487034   \n",
       "87013          US    4178989.0   RB7XYIDH5GI7D  B00BRKF8DG       361992403   \n",
       "\n",
       "                                           product_title product_category  \\\n",
       "0      The Cravings Place Chocolate Chunk Cookie Mix,...          Grocery   \n",
       "1                Mauna Loa Macadamias, 11 Ounce Packages          Grocery   \n",
       "2      Organic Matcha Green Tea Powder - 100% Pure Ma...          Grocery   \n",
       "3      15oz Raspberry Lyons Designer Dessert Syrup Sauce          Grocery   \n",
       "4      Stride Spark Kinetic Fruit Sugar Free Gum, 14-...          Grocery   \n",
       "...                                                  ...              ...   \n",
       "87009  Concord Pineapple Smoothie Mix, 2 -Ounce (Pack...          Grocery   \n",
       "87010            Jansal Valley Raw Pecan Pieces, 1 Pound          Grocery   \n",
       "87011         Explore Asia Organic Black Bean Spaghetti,          Grocery   \n",
       "87012           Oregon Chai Mix Latte, Original (6 Pack)          Grocery   \n",
       "87013  True Lime Lime, Garlic & Cilantro Spice Blend,...          Grocery   \n",
       "\n",
       "       star_rating  helpful_votes  total_votes vine verified_purchase  \\\n",
       "0              5.0            0.0          0.0    N                 Y   \n",
       "1              5.0            0.0          0.0    N                 Y   \n",
       "2              5.0            0.0          0.0    N                 N   \n",
       "3              5.0            0.0          0.0    N                 Y   \n",
       "4              5.0            0.0          0.0    N                 Y   \n",
       "...            ...            ...          ...  ...               ...   \n",
       "87009          5.0            0.0          0.0    N                 Y   \n",
       "87010          5.0            0.0          0.0    N                 Y   \n",
       "87011          5.0            0.0          0.0    N                 Y   \n",
       "87012          5.0            0.0          0.0    N                 Y   \n",
       "87013          5.0            0.0          0.0    N                 Y   \n",
       "\n",
       "                          review_headline  \\\n",
       "0      Using these for years - love them.   \n",
       "1                               Wonderful   \n",
       "2                              Five Stars   \n",
       "3                              Five Stars   \n",
       "4                              Five Stars   \n",
       "...                                   ...   \n",
       "87009                          Five Stars   \n",
       "87010                Handy and delicious.   \n",
       "87011           Wonderful! Will buy more!   \n",
       "87012                          Five Stars   \n",
       "87013                          Five Stars   \n",
       "\n",
       "                                             review_body review_date  \n",
       "0      As a family allergic to wheat, dairy, eggs, nu...  2015-08-31  \n",
       "1      My favorite nut.  Creamy, crunchy, salty, and ...  2015-08-31  \n",
       "2      This green tea tastes so good! My girlfriend l...  2015-08-31  \n",
       "3      I love Melissa's brand but this is a great sec...  2015-08-31  \n",
       "4                                                   good  2015-08-31  \n",
       "...                                                  ...         ...  \n",
       "87009  Great product.,  First time ordered this flavo...  2015-08-01  \n",
       "87010  Now I don't have to break my grocery budget to...  2015-08-01  \n",
       "87011  Wow! Looks like black rubber, but there's no n...  2015-08-01  \n",
       "87012                              Very tasty, as usual!  2015-08-01  \n",
       "87013                                            Love it  2015-08-01  \n",
       "\n",
       "[86995 rows x 15 columns]>"
      ]
     },
     "execution_count": 14,
     "metadata": {},
     "output_type": "execute_result"
    }
   ],
   "source": [
    "df.info"
   ]
  },
  {
   "cell_type": "code",
   "execution_count": 15,
   "id": "ec2e55f1",
   "metadata": {
    "scrolled": true
   },
   "outputs": [
    {
     "data": {
      "text/html": [
       "<div>\n",
       "<style scoped>\n",
       "    .dataframe tbody tr th:only-of-type {\n",
       "        vertical-align: middle;\n",
       "    }\n",
       "\n",
       "    .dataframe tbody tr th {\n",
       "        vertical-align: top;\n",
       "    }\n",
       "\n",
       "    .dataframe thead th {\n",
       "        text-align: right;\n",
       "    }\n",
       "</style>\n",
       "<table border=\"1\" class=\"dataframe\">\n",
       "  <thead>\n",
       "    <tr style=\"text-align: right;\">\n",
       "      <th></th>\n",
       "      <th>marketplace</th>\n",
       "      <th>customer_id</th>\n",
       "      <th>review_id</th>\n",
       "      <th>product_id</th>\n",
       "      <th>product_parent</th>\n",
       "      <th>product_title</th>\n",
       "      <th>product_category</th>\n",
       "      <th>star_rating</th>\n",
       "      <th>helpful_votes</th>\n",
       "      <th>total_votes</th>\n",
       "      <th>vine</th>\n",
       "      <th>verified_purchase</th>\n",
       "      <th>review_headline</th>\n",
       "      <th>review_body</th>\n",
       "      <th>review_date</th>\n",
       "    </tr>\n",
       "  </thead>\n",
       "  <tbody>\n",
       "  </tbody>\n",
       "</table>\n",
       "</div>"
      ],
      "text/plain": [
       "Empty DataFrame\n",
       "Columns: [marketplace, customer_id, review_id, product_id, product_parent, product_title, product_category, star_rating, helpful_votes, total_votes, vine, verified_purchase, review_headline, review_body, review_date]\n",
       "Index: []"
      ]
     },
     "execution_count": 15,
     "metadata": {},
     "output_type": "execute_result"
    }
   ],
   "source": [
    "# Check if there's any incorrect data \n",
    "df.query('helpful_votes > total_votes')"
   ]
  },
  {
   "cell_type": "code",
   "execution_count": 16,
   "id": "53554dc9",
   "metadata": {},
   "outputs": [
    {
     "data": {
      "text/html": [
       "<div>\n",
       "<style scoped>\n",
       "    .dataframe tbody tr th:only-of-type {\n",
       "        vertical-align: middle;\n",
       "    }\n",
       "\n",
       "    .dataframe tbody tr th {\n",
       "        vertical-align: top;\n",
       "    }\n",
       "\n",
       "    .dataframe thead th {\n",
       "        text-align: right;\n",
       "    }\n",
       "</style>\n",
       "<table border=\"1\" class=\"dataframe\">\n",
       "  <thead>\n",
       "    <tr style=\"text-align: right;\">\n",
       "      <th></th>\n",
       "      <th>customer_id</th>\n",
       "      <th>product_parent</th>\n",
       "      <th>star_rating</th>\n",
       "      <th>helpful_votes</th>\n",
       "      <th>total_votes</th>\n",
       "    </tr>\n",
       "  </thead>\n",
       "  <tbody>\n",
       "    <tr>\n",
       "      <th>count</th>\n",
       "      <td>8.699500e+04</td>\n",
       "      <td>8.699500e+04</td>\n",
       "      <td>86995.000000</td>\n",
       "      <td>86995.000000</td>\n",
       "      <td>86995.000000</td>\n",
       "    </tr>\n",
       "    <tr>\n",
       "      <th>mean</th>\n",
       "      <td>2.729714e+07</td>\n",
       "      <td>4.972025e+08</td>\n",
       "      <td>4.359848</td>\n",
       "      <td>0.690293</td>\n",
       "      <td>0.901420</td>\n",
       "    </tr>\n",
       "    <tr>\n",
       "      <th>std</th>\n",
       "      <td>1.587295e+07</td>\n",
       "      <td>2.867460e+08</td>\n",
       "      <td>1.203399</td>\n",
       "      <td>6.820124</td>\n",
       "      <td>7.542439</td>\n",
       "    </tr>\n",
       "    <tr>\n",
       "      <th>min</th>\n",
       "      <td>1.080500e+04</td>\n",
       "      <td>1.098200e+04</td>\n",
       "      <td>1.000000</td>\n",
       "      <td>0.000000</td>\n",
       "      <td>0.000000</td>\n",
       "    </tr>\n",
       "    <tr>\n",
       "      <th>25%</th>\n",
       "      <td>1.394988e+07</td>\n",
       "      <td>2.538028e+08</td>\n",
       "      <td>4.000000</td>\n",
       "      <td>0.000000</td>\n",
       "      <td>0.000000</td>\n",
       "    </tr>\n",
       "    <tr>\n",
       "      <th>50%</th>\n",
       "      <td>2.602121e+07</td>\n",
       "      <td>4.963807e+08</td>\n",
       "      <td>5.000000</td>\n",
       "      <td>0.000000</td>\n",
       "      <td>0.000000</td>\n",
       "    </tr>\n",
       "    <tr>\n",
       "      <th>75%</th>\n",
       "      <td>4.215296e+07</td>\n",
       "      <td>7.415526e+08</td>\n",
       "      <td>5.000000</td>\n",
       "      <td>0.000000</td>\n",
       "      <td>1.000000</td>\n",
       "    </tr>\n",
       "    <tr>\n",
       "      <th>max</th>\n",
       "      <td>5.309645e+07</td>\n",
       "      <td>9.999491e+08</td>\n",
       "      <td>5.000000</td>\n",
       "      <td>1377.000000</td>\n",
       "      <td>1463.000000</td>\n",
       "    </tr>\n",
       "  </tbody>\n",
       "</table>\n",
       "</div>"
      ],
      "text/plain": [
       "        customer_id  product_parent   star_rating  helpful_votes   total_votes\n",
       "count  8.699500e+04    8.699500e+04  86995.000000   86995.000000  86995.000000\n",
       "mean   2.729714e+07    4.972025e+08      4.359848       0.690293      0.901420\n",
       "std    1.587295e+07    2.867460e+08      1.203399       6.820124      7.542439\n",
       "min    1.080500e+04    1.098200e+04      1.000000       0.000000      0.000000\n",
       "25%    1.394988e+07    2.538028e+08      4.000000       0.000000      0.000000\n",
       "50%    2.602121e+07    4.963807e+08      5.000000       0.000000      0.000000\n",
       "75%    4.215296e+07    7.415526e+08      5.000000       0.000000      1.000000\n",
       "max    5.309645e+07    9.999491e+08      5.000000    1377.000000   1463.000000"
      ]
     },
     "execution_count": 16,
     "metadata": {},
     "output_type": "execute_result"
    }
   ],
   "source": [
    "# Check the basic summary of dataset\n",
    "df.describe()"
   ]
  },
  {
   "cell_type": "markdown",
   "id": "74deff1a",
   "metadata": {},
   "source": [
    "Average rating is 4.35/5.00"
   ]
  },
  {
   "cell_type": "code",
   "execution_count": 384,
   "id": "080b7053",
   "metadata": {},
   "outputs": [],
   "source": [
    "# save dataframe as csv to be used as batch data\n",
    "# df.to_csv(r'C:/Users/yippe/OneDrive/Documents/Data/Amazon_Reviews/batch_reviews.csv', index = False, header = True)"
   ]
  },
  {
   "cell_type": "code",
   "execution_count": 17,
   "id": "bcb6a06d",
   "metadata": {},
   "outputs": [],
   "source": [
    "# delete groceries variable to prevent accumulation of unused memory\n",
    "del groceries"
   ]
  },
  {
   "cell_type": "code",
   "execution_count": null,
   "id": "186d7a7a",
   "metadata": {},
   "outputs": [],
   "source": []
  }
 ],
 "metadata": {
  "kernelspec": {
   "display_name": "Python 3 (ipykernel)",
   "language": "python",
   "name": "python3"
  },
  "language_info": {
   "codemirror_mode": {
    "name": "ipython",
    "version": 3
   },
   "file_extension": ".py",
   "mimetype": "text/x-python",
   "name": "python",
   "nbconvert_exporter": "python",
   "pygments_lexer": "ipython3",
   "version": "3.9.13"
  }
 },
 "nbformat": 4,
 "nbformat_minor": 5
}
